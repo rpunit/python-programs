{
 "cells": [
  {
   "cell_type": "code",
   "execution_count": 42,
   "metadata": {},
   "outputs": [
    {
     "name": "stdout",
     "output_type": "stream",
     "text": [
      "trie initialized\n",
      "Setting terminal =1s\n",
      "Setting terminal =1s\n",
      "Setting terminal =1n\n",
      "found\n",
      "Setting terminal =1t\n",
      "This\n",
      "is\n",
      "an\n",
      "test\n"
     ]
    }
   ],
   "source": [
    "class TrieNode :\n",
    "    #terminal = 0\n",
    "    #children = {}\n",
    "    def __init__(self ):\n",
    "        self.terminal = 0\n",
    "        self.children = {}\n",
    "        #print(\"TrieNode initialized\")\n",
    "    def __str__(self) :\n",
    "        return (\"Terminal = %d numchildren = %d\\n\" %(self.terminal, len(self.children)))\n",
    "        \n",
    "class Trie :\n",
    "    \n",
    "    def __init__(self) :\n",
    "        print(\"trie initialized\")\n",
    "        self.root = TrieNode()\n",
    "    \n",
    "    def _insert(self, string, node) :   \n",
    "        #print(string,\",\", node)\n",
    "        \n",
    "        s = string[0]\n",
    "        if s in node.children :\n",
    "            if (len(string) == 1) :\n",
    "                node.children[s].terminal=1\n",
    "            else :\n",
    "                self._insert(string[1:], node.children[s])\n",
    "        else :\n",
    "            node.children[s] = TrieNode()\n",
    "            if len(string) == 1:\n",
    "                node.children[s].terminal = 1\n",
    "                print(\"Setting terminal =1\" + string)\n",
    "            else :\n",
    "                self._insert(string[1:], node.children[s])\n",
    "            \n",
    "    def insert(self, string) :\n",
    "        self._insert( string, self.root)\n",
    "\n",
    "    def _print(self, node, l) :\n",
    "        if node == None:\n",
    "            return\n",
    "        for s in node.children :\n",
    "            if node.children[s].terminal == 1 :\n",
    "                print(l + s )\n",
    "            self._print(node.children[s], l + s)\n",
    "        \n",
    "    def print (self) :\n",
    "        self._print (self.root, \"\")\n",
    "\n",
    "t = Trie()\n",
    "\n",
    "t.insert(\"This\")\n",
    "t.insert(\"is\")\n",
    "t.insert(\"an\")\n",
    "t.insert(\"another\")\n",
    "t.insert(\"test\")\n",
    "\n",
    "t.print()"
   ]
  },
  {
   "cell_type": "code",
   "execution_count": null,
   "metadata": {},
   "outputs": [],
   "source": []
  }
 ],
 "metadata": {
  "kernelspec": {
   "display_name": "Python 3",
   "language": "python",
   "name": "python3"
  },
  "language_info": {
   "codemirror_mode": {
    "name": "ipython",
    "version": 3
   },
   "file_extension": ".py",
   "mimetype": "text/x-python",
   "name": "python",
   "nbconvert_exporter": "python",
   "pygments_lexer": "ipython3",
   "version": "3.6.4"
  }
 },
 "nbformat": 4,
 "nbformat_minor": 2
}
